{
  "nbformat": 4,
  "nbformat_minor": 0,
  "metadata": {
    "colab": {
      "name": "OPPO_BOT.ipynb",
      "provenance": [],
      "collapsed_sections": []
    },
    "kernelspec": {
      "name": "python3",
      "display_name": "Python 3"
    },
    "language_info": {
      "name": "python"
    }
  },
  "cells": [
    {
      "cell_type": "code",
      "metadata": {
        "id": "TJMNitnhKKHU"
      },
      "source": [
        "import numpy as np\n",
        "import nltk\n",
        "from nltk.stem import WordNetLemmatizer\n",
        "import json\n",
        "import pickle\n",
        "import random\n",
        "from keras.models import Sequential\n",
        "from keras.layers import Dense, Activation, Dropout\n",
        "from keras.optimizers import SGD"
      ],
      "execution_count": 1,
      "outputs": []
    },
    {
      "cell_type": "code",
      "metadata": {
        "id": "E5cEQMCcKbGc"
      },
      "source": [
        "words=[]\n",
        "classes = []\n",
        "documents = []\n",
        "ignore_words = ['?', '!']"
      ],
      "execution_count": 4,
      "outputs": []
    },
    {
      "cell_type": "code",
      "metadata": {
        "id": "SHUbAXGxKdpF"
      },
      "source": [
        "data_file = open('/content/intents.json').read()\n",
        "intents = json.loads(data_file)"
      ],
      "execution_count": 5,
      "outputs": []
    },
    {
      "cell_type": "code",
      "metadata": {
        "colab": {
          "base_uri": "https://localhost:8080/"
        },
        "id": "IWjZocIBKguU",
        "outputId": "b0ed0a93-ae41-484d-cf20-f8f1c48bfe73"
      },
      "source": [
        "nltk.download('punkt')"
      ],
      "execution_count": 3,
      "outputs": [
        {
          "output_type": "stream",
          "text": [
            "[nltk_data] Downloading package punkt to /root/nltk_data...\n",
            "[nltk_data]   Unzipping tokenizers/punkt.zip.\n"
          ],
          "name": "stdout"
        },
        {
          "output_type": "execute_result",
          "data": {
            "text/plain": [
              "True"
            ]
          },
          "metadata": {
            "tags": []
          },
          "execution_count": 3
        }
      ]
    },
    {
      "cell_type": "code",
      "metadata": {
        "id": "cpcpDRUrKnBC"
      },
      "source": [
        "#chaque intent contient : tag , patterns ,responses ,context.\n",
        "for intent in intents['intents']:\n",
        "    for pattern in intent['patterns']:\n",
        "        #tokenize each word\n",
        "        w = nltk.word_tokenize(pattern)\n",
        "        words.extend(w)\n",
        "        \n",
        "        #add documents in the corpus\n",
        "        documents.append((w, intent['tag']))\n",
        "\n",
        "        # add to our classes list\n",
        "        if intent['tag'] not in classes:\n",
        "            classes.append(intent['tag'])"
      ],
      "execution_count": 6,
      "outputs": []
    },
    {
      "cell_type": "code",
      "metadata": {
        "colab": {
          "base_uri": "https://localhost:8080/"
        },
        "id": "WCql4iDnKrFd",
        "outputId": "058d3c2c-10d3-4437-86ec-e2602a46b76f"
      },
      "source": [
        "nltk.download('wordnet')\n",
        "lemmatizer = WordNetLemmatizer()\n",
        "\n",
        "# lemmatize, lower each word and remove duplicates\n",
        "words = [lemmatizer.lemmatize(w.lower()) for w in words if w not in ignore_words]\n",
        "words = sorted(list(set(words)))\n",
        "\n",
        "# sort classes\n",
        "#sorted\n",
        "classes = sorted(classes)\n",
        "\n",
        "# documents = combination between patterns and intents\n",
        "print (len(documents), \"documents\")\n",
        "\n",
        "# classes = intents\n",
        "print (len(classes), \"classes\", classes)\n",
        "\n",
        "# words = all words, vocabulary\n",
        "print (len(words), \"unique lemmatized words\", words)\n",
        "\n",
        "pickle.dump(words,open('/content/words.pkl','wb'))\n",
        "pickle.dump(classes,open('/content/classes.pkl','wb'))"
      ],
      "execution_count": 12,
      "outputs": [
        {
          "output_type": "stream",
          "text": [
            "[nltk_data] Downloading package wordnet to /root/nltk_data...\n",
            "[nltk_data]   Package wordnet is already up-to-date!\n",
            "588 documents\n",
            "196 classes [['a15 battery'], ['a15 biometrics'], ['a15 box'], ['a15 camera'], ['a15 chips'], ['a15 connectivity'], ['a15 display'], ['a15 memory'], ['a15 network'], ['a15 position'], ['a15 sensors'], ['a15 size'], ['a15 system'], ['a15 video'], ['a15s battery'], ['a15s biometrics'], ['a15s box'], ['a15s camera'], ['a15s chips'], ['a15s connectivity'], ['a15s display'], ['a15s memory'], ['a15s network'], ['a15s position'], ['a15s sensors'], ['a15s size'], ['a15s system'], ['a15s video'], ['a74 battery'], ['a74 biometrics'], ['a74 box'], ['a74 camera'], ['a74 chips'], ['a74 connectivity'], ['a74 display'], ['a74 memory'], ['a74 network'], ['a74 position'], ['a74 sensors'], ['a74 size'], ['a74 system'], ['a74 video'], ['a94 battery'], ['a94 biometrics'], ['a94 box'], ['a94 camera'], ['a94 chips'], ['a94 connectivity'], ['a94 display'], ['a94 memory'], ['a94 network'], ['a94 position'], ['a94 sensors'], ['a94 size'], ['a94 system'], ['a94 video'], ['reno4 battery'], ['reno4 biometrics'], ['reno4 box'], ['reno4 camera'], ['reno4 chips'], ['reno4 connectivity'], ['reno4 display'], ['reno4 memory'], ['reno4 network'], ['reno4 position'], ['reno4 pro battery'], ['reno4 pro biometrics'], ['reno4 pro box'], ['reno4 pro camera'], ['reno4 pro chips'], ['reno4 pro connectivity'], ['reno4 pro display'], ['reno4 pro memory'], ['reno4 pro network'], ['reno4 pro position'], ['reno4 pro sensors'], ['reno4 pro size'], ['reno4 pro system'], ['reno4 pro video'], ['reno4 sensors'], ['reno4 size'], ['reno4 system'], ['reno4 video'], ['reno5 5g battery'], ['reno5 5g biometrics'], ['reno5 5g box'], ['reno5 5g camera'], ['reno5 5g chips'], ['reno5 5g connectivity'], ['reno5 5g display'], ['reno5 5g memory'], ['reno5 5g network'], ['reno5 5g position'], ['reno5 5g sensors'], ['reno5 5g size'], ['reno5 5g system'], ['reno5 5g video'], ['reno5 battery'], ['reno5 biometrics'], ['reno5 box'], ['reno5 camera'], ['reno5 chips'], ['reno5 connectivity'], ['reno5 display'], ['reno5 memory'], ['reno5 network'], ['reno5 position'], ['reno5 sensors'], ['reno5 size'], ['reno5 system'], ['reno5 video'], ['smartphone a1k battery'], ['smartphone a1k biometrics'], ['smartphone a1k box'], ['smartphone a1k camera'], ['smartphone a1k chips'], ['smartphone a1k connectivity'], ['smartphone a1k display'], ['smartphone a1k memory'], ['smartphone a1k network'], ['smartphone a1k position'], ['smartphone a1k sensors'], ['smartphone a1k size'], ['smartphone a1k system'], ['smartphone a1k video'], ['smartphone a5 2020 battery'], ['smartphone a5 2020 biometrics'], ['smartphone a5 2020 box'], ['smartphone a5 2020 camera'], ['smartphone a5 2020 chips'], ['smartphone a5 2020 connectivity'], ['smartphone a5 2020 display'], ['smartphone a5 2020 memory'], ['smartphone a5 2020 network'], ['smartphone a5 2020 position'], ['smartphone a5 2020 sensors'], ['smartphone a5 2020 size'], ['smartphone a5 2020 system'], ['smartphone a5 2020 video'], ['smartphone a5s battery'], ['smartphone a5s biometrics'], ['smartphone a5s box'], ['smartphone a5s camera'], ['smartphone a5s chips'], ['smartphone a5s connectivity'], ['smartphone a5s display'], ['smartphone a5s memory'], ['smartphone a5s network'], ['smartphone a5s position'], ['smartphone a5s sensors'], ['smartphone a5s size'], ['smartphone a5s system'], ['smartphone a5s video'], ['smartphone a7 battery'], ['smartphone a7 biometrics'], ['smartphone a7 box'], ['smartphone a7 camera'], ['smartphone a7 chips'], ['smartphone a7 connectivity'], ['smartphone a7 display'], ['smartphone a7 memory'], ['smartphone a7 network'], ['smartphone a7 position'], ['smartphone a7 sensors'], ['smartphone a7 size'], ['smartphone a7 system'], ['smartphone a7 video'], ['smartphone a9 2020 battery'], ['smartphone a9 2020 biometrics'], ['smartphone a9 2020 box'], ['smartphone a9 2020 camera'], ['smartphone a9 2020 chips'], ['smartphone a9 2020 connectivity'], ['smartphone a9 2020 display'], ['smartphone a9 2020 memory'], ['smartphone a9 2020 network'], ['smartphone a9 2020 position'], ['smartphone a9 2020 sensors'], ['smartphone a9 2020 size'], ['smartphone a9 2020 system'], ['smartphone a9 2020 video'], ['smartphone reno3 battery'], ['smartphone reno3 biometrics'], ['smartphone reno3 box'], ['smartphone reno3 camera'], ['smartphone reno3 chips'], ['smartphone reno3 connectivity'], ['smartphone reno3 display'], ['smartphone reno3 memory'], ['smartphone reno3 network'], ['smartphone reno3 position'], ['smartphone reno3 sensors'], ['smartphone reno3 size'], ['smartphone reno3 system'], ['smartphone reno3 video']]\n",
            "36 unique lemmatized words ['2020', '5g', 'a15', 'a15s', 'a1k', 'a5', 'a5s', 'a7', 'a74', 'a9', 'a94', 'affichage', 'appareil', 'batterie', 'biometrie', 'boite', 'capteurs', 'caractéristiques', 'connectivite', 'de', 'le', 'memoire', 'photo', 'position', 'pro', 'puce', 'quelles', 'reno3', 'reno4', 'reno5', 'reseau', 'smartphone', 'sont', 'systeme', 'taille', 'video']\n"
          ],
          "name": "stdout"
        }
      ]
    },
    {
      "cell_type": "code",
      "metadata": {
        "id": "bjpCNCpEK1BS"
      },
      "source": [
        "#Our input will be the pattern and the output will be the class which our input pattern belongs to.\n",
        "# create our training data\n",
        "training = []\n",
        "\n",
        "# create an empty array for our output\n",
        "output_empty = [0] * len(classes)\n",
        "\n",
        "# training set, bag of words for each sentence\n",
        "for doc in documents:\n",
        "    # initialize our bag of words\n",
        "    bag = []\n",
        "\n",
        "    # list of tokenized words for the pattern\n",
        "    pattern_words = doc[0]\n",
        "\n",
        "    # lemmatize each word - create base word, in attempt to represent related words\n",
        "    pattern_words = [lemmatizer.lemmatize(word.lower()) for word in pattern_words]\n",
        "\n",
        "    # create our bag of words array with 1, if word match found in current pattern\n",
        "    for w in words:\n",
        "      bag.append(1) if w in pattern_words else bag.append(0)\n",
        "      \n",
        "    # output is a '0' for each tag and '1' for current tag (for each pattern)\n",
        "    output_row = list(output_empty)\n",
        "    output_row[classes.index(doc[1])] = 1\n",
        "\n",
        "    training.append([bag, output_row])"
      ],
      "execution_count": 13,
      "outputs": []
    },
    {
      "cell_type": "code",
      "metadata": {
        "colab": {
          "base_uri": "https://localhost:8080/"
        },
        "id": "-dgrHi7uK095",
        "outputId": "db1eb3c3-90fc-4c8b-c21a-7be8977d496f"
      },
      "source": [
        "# shuffle our features and turn into np.array\n",
        "random.shuffle(training)\n",
        "training = np.array(training)\n",
        "\n",
        "# create train and test lists. X - patterns, Y - intents\n",
        "train_x = list(training[:,0])\n",
        "train_y = list(training[:,1])\n",
        "\n",
        "print(\"Training data created\")"
      ],
      "execution_count": 14,
      "outputs": [
        {
          "output_type": "stream",
          "text": [
            "Training data created\n"
          ],
          "name": "stdout"
        },
        {
          "output_type": "stream",
          "text": [
            "/usr/local/lib/python3.7/dist-packages/ipykernel_launcher.py:3: VisibleDeprecationWarning: Creating an ndarray from ragged nested sequences (which is a list-or-tuple of lists-or-tuples-or ndarrays with different lengths or shapes) is deprecated. If you meant to do this, you must specify 'dtype=object' when creating the ndarray\n",
            "  This is separate from the ipykernel package so we can avoid doing imports until\n"
          ],
          "name": "stderr"
        }
      ]
    },
    {
      "cell_type": "code",
      "metadata": {
        "colab": {
          "base_uri": "https://localhost:8080/"
        },
        "id": "Hb0UtSWdK07n",
        "outputId": "86d733d0-8a71-4b33-8607-2e536e8bb42c"
      },
      "source": [
        "# Create model - 3 layers. First layer 128 neurons, second layer 64 neurons and 3rd output layer contains number of neurons\n",
        "# equal to number of intents to predict output intent with softmax\n",
        "\n",
        "\n",
        "model = Sequential()\n",
        "model.add(Dense(128, input_shape=(len(train_x[0]),), activation='relu'))\n",
        "model.add(Dropout(0.5))\n",
        "model.add(Dense(64, activation='relu'))\n",
        "model.add(Dropout(0.5))\n",
        "model.add(Dense(len(train_y[0]), activation='softmax'))\n",
        "\n",
        "# Compile model. Stochastic gradient descent with Nesterov accelerated gradient gives good results for this model\n",
        "sgd = SGD(lr=0.01, decay=1e-6, momentum=0.9, nesterov=True)\n",
        "model.compile(loss='categorical_crossentropy', optimizer=sgd, metrics=['accuracy'])\n",
        "\n",
        "#fitting and saving the model \n",
        "hist = model.fit(np.array(train_x), np.array(train_y), epochs=200, batch_size=5, verbose=1)"
      ],
      "execution_count": 15,
      "outputs": [
        {
          "output_type": "stream",
          "text": [
            "Epoch 1/200\n",
            "118/118 [==============================] - 1s 1ms/step - loss: 5.2970 - accuracy: 0.0047\n",
            "Epoch 2/200\n",
            "118/118 [==============================] - 0s 1ms/step - loss: 5.2766 - accuracy: 0.0100\n",
            "Epoch 3/200\n",
            "118/118 [==============================] - 0s 1ms/step - loss: 5.2545 - accuracy: 0.0110\n",
            "Epoch 4/200\n",
            "118/118 [==============================] - 0s 1ms/step - loss: 5.2111 - accuracy: 0.0196\n",
            "Epoch 5/200\n",
            "118/118 [==============================] - 0s 1ms/step - loss: 5.1144 - accuracy: 0.0293\n",
            "Epoch 6/200\n",
            "118/118 [==============================] - 0s 1ms/step - loss: 5.0005 - accuracy: 0.0253\n",
            "Epoch 7/200\n",
            "118/118 [==============================] - 0s 1ms/step - loss: 4.7411 - accuracy: 0.0369\n",
            "Epoch 8/200\n",
            "118/118 [==============================] - 0s 1ms/step - loss: 4.5230 - accuracy: 0.0499\n",
            "Epoch 9/200\n",
            "118/118 [==============================] - 0s 1ms/step - loss: 4.2748 - accuracy: 0.0641\n",
            "Epoch 10/200\n",
            "118/118 [==============================] - 0s 1ms/step - loss: 4.1718 - accuracy: 0.0590\n",
            "Epoch 11/200\n",
            "118/118 [==============================] - 0s 1ms/step - loss: 3.8525 - accuracy: 0.1060\n",
            "Epoch 12/200\n",
            "118/118 [==============================] - 0s 1ms/step - loss: 3.6199 - accuracy: 0.1270\n",
            "Epoch 13/200\n",
            "118/118 [==============================] - 0s 1ms/step - loss: 3.4609 - accuracy: 0.1523\n",
            "Epoch 14/200\n",
            "118/118 [==============================] - 0s 1ms/step - loss: 3.1621 - accuracy: 0.1817\n",
            "Epoch 15/200\n",
            "118/118 [==============================] - 0s 1ms/step - loss: 3.1178 - accuracy: 0.2398\n",
            "Epoch 16/200\n",
            "118/118 [==============================] - 0s 1ms/step - loss: 2.8231 - accuracy: 0.2614\n",
            "Epoch 17/200\n",
            "118/118 [==============================] - 0s 1ms/step - loss: 2.8046 - accuracy: 0.2500\n",
            "Epoch 18/200\n",
            "118/118 [==============================] - 0s 1ms/step - loss: 2.8155 - accuracy: 0.2418\n",
            "Epoch 19/200\n",
            "118/118 [==============================] - 0s 1ms/step - loss: 2.6229 - accuracy: 0.2986\n",
            "Epoch 20/200\n",
            "118/118 [==============================] - 0s 1ms/step - loss: 2.4878 - accuracy: 0.2865\n",
            "Epoch 21/200\n",
            "118/118 [==============================] - 0s 1ms/step - loss: 2.4767 - accuracy: 0.3106\n",
            "Epoch 22/200\n",
            "118/118 [==============================] - 0s 1ms/step - loss: 2.4463 - accuracy: 0.3260\n",
            "Epoch 23/200\n",
            "118/118 [==============================] - 0s 1ms/step - loss: 2.2263 - accuracy: 0.3601\n",
            "Epoch 24/200\n",
            "118/118 [==============================] - 0s 1ms/step - loss: 2.2251 - accuracy: 0.3824\n",
            "Epoch 25/200\n",
            "118/118 [==============================] - 0s 1ms/step - loss: 2.1304 - accuracy: 0.3907\n",
            "Epoch 26/200\n",
            "118/118 [==============================] - 0s 1ms/step - loss: 2.1500 - accuracy: 0.4238\n",
            "Epoch 27/200\n",
            "118/118 [==============================] - 0s 1ms/step - loss: 2.2936 - accuracy: 0.4007\n",
            "Epoch 28/200\n",
            "118/118 [==============================] - 0s 1ms/step - loss: 2.1430 - accuracy: 0.4188\n",
            "Epoch 29/200\n",
            "118/118 [==============================] - 0s 1ms/step - loss: 2.0540 - accuracy: 0.4035\n",
            "Epoch 30/200\n",
            "118/118 [==============================] - 0s 1ms/step - loss: 2.1004 - accuracy: 0.4171\n",
            "Epoch 31/200\n",
            "118/118 [==============================] - 0s 1ms/step - loss: 2.0755 - accuracy: 0.3883\n",
            "Epoch 32/200\n",
            "118/118 [==============================] - 0s 1ms/step - loss: 1.9456 - accuracy: 0.4704\n",
            "Epoch 33/200\n",
            "118/118 [==============================] - 0s 1ms/step - loss: 1.9223 - accuracy: 0.4754\n",
            "Epoch 34/200\n",
            "118/118 [==============================] - 0s 1ms/step - loss: 1.7474 - accuracy: 0.5217\n",
            "Epoch 35/200\n",
            "118/118 [==============================] - 0s 1ms/step - loss: 1.8356 - accuracy: 0.4973\n",
            "Epoch 36/200\n",
            "118/118 [==============================] - 0s 1ms/step - loss: 1.9151 - accuracy: 0.4241\n",
            "Epoch 37/200\n",
            "118/118 [==============================] - 0s 1ms/step - loss: 1.8106 - accuracy: 0.4844\n",
            "Epoch 38/200\n",
            "118/118 [==============================] - 0s 1ms/step - loss: 1.6832 - accuracy: 0.5575\n",
            "Epoch 39/200\n",
            "118/118 [==============================] - 0s 1ms/step - loss: 1.7461 - accuracy: 0.4697\n",
            "Epoch 40/200\n",
            "118/118 [==============================] - 0s 1ms/step - loss: 1.8262 - accuracy: 0.5166\n",
            "Epoch 41/200\n",
            "118/118 [==============================] - 0s 1ms/step - loss: 1.8978 - accuracy: 0.4527\n",
            "Epoch 42/200\n",
            "118/118 [==============================] - 0s 1ms/step - loss: 1.7033 - accuracy: 0.5385\n",
            "Epoch 43/200\n",
            "118/118 [==============================] - 0s 1ms/step - loss: 1.7816 - accuracy: 0.5099\n",
            "Epoch 44/200\n",
            "118/118 [==============================] - 0s 1ms/step - loss: 1.6526 - accuracy: 0.5246\n",
            "Epoch 45/200\n",
            "118/118 [==============================] - 0s 1ms/step - loss: 1.9164 - accuracy: 0.4391\n",
            "Epoch 46/200\n",
            "118/118 [==============================] - 0s 1ms/step - loss: 1.8874 - accuracy: 0.4332\n",
            "Epoch 47/200\n",
            "118/118 [==============================] - 0s 1ms/step - loss: 1.6618 - accuracy: 0.5603\n",
            "Epoch 48/200\n",
            "118/118 [==============================] - 0s 1ms/step - loss: 1.7121 - accuracy: 0.5361\n",
            "Epoch 49/200\n",
            "118/118 [==============================] - 0s 1ms/step - loss: 1.8550 - accuracy: 0.4778\n",
            "Epoch 50/200\n",
            "118/118 [==============================] - 0s 1ms/step - loss: 1.7565 - accuracy: 0.5160\n",
            "Epoch 51/200\n",
            "118/118 [==============================] - 0s 1ms/step - loss: 1.6859 - accuracy: 0.5541\n",
            "Epoch 52/200\n",
            "118/118 [==============================] - 0s 1ms/step - loss: 1.5869 - accuracy: 0.5558\n",
            "Epoch 53/200\n",
            "118/118 [==============================] - 0s 1ms/step - loss: 1.5314 - accuracy: 0.5668\n",
            "Epoch 54/200\n",
            "118/118 [==============================] - 0s 1ms/step - loss: 1.5999 - accuracy: 0.5533\n",
            "Epoch 55/200\n",
            "118/118 [==============================] - 0s 1ms/step - loss: 1.5885 - accuracy: 0.5687\n",
            "Epoch 56/200\n",
            "118/118 [==============================] - 0s 1ms/step - loss: 1.7608 - accuracy: 0.5193\n",
            "Epoch 57/200\n",
            "118/118 [==============================] - 0s 1ms/step - loss: 1.7177 - accuracy: 0.5660\n",
            "Epoch 58/200\n",
            "118/118 [==============================] - 0s 1ms/step - loss: 1.5197 - accuracy: 0.5953\n",
            "Epoch 59/200\n",
            "118/118 [==============================] - 0s 1ms/step - loss: 1.9923 - accuracy: 0.4920\n",
            "Epoch 60/200\n",
            "118/118 [==============================] - 0s 1ms/step - loss: 1.7532 - accuracy: 0.5034\n",
            "Epoch 61/200\n",
            "118/118 [==============================] - 0s 1ms/step - loss: 1.9798 - accuracy: 0.4912\n",
            "Epoch 62/200\n",
            "118/118 [==============================] - 0s 1ms/step - loss: 1.6964 - accuracy: 0.5173\n",
            "Epoch 63/200\n",
            "118/118 [==============================] - 0s 1ms/step - loss: 1.8163 - accuracy: 0.4921\n",
            "Epoch 64/200\n",
            "118/118 [==============================] - 0s 1ms/step - loss: 1.7506 - accuracy: 0.4876\n",
            "Epoch 65/200\n",
            "118/118 [==============================] - 0s 1ms/step - loss: 1.8536 - accuracy: 0.4981\n",
            "Epoch 66/200\n",
            "118/118 [==============================] - 0s 1ms/step - loss: 1.8045 - accuracy: 0.5232\n",
            "Epoch 67/200\n",
            "118/118 [==============================] - 0s 1ms/step - loss: 1.9524 - accuracy: 0.4952\n",
            "Epoch 68/200\n",
            "118/118 [==============================] - 0s 1ms/step - loss: 1.6400 - accuracy: 0.5318\n",
            "Epoch 69/200\n",
            "118/118 [==============================] - 0s 1ms/step - loss: 1.9231 - accuracy: 0.4936\n",
            "Epoch 70/200\n",
            "118/118 [==============================] - 0s 1ms/step - loss: 1.6250 - accuracy: 0.5451\n",
            "Epoch 71/200\n",
            "118/118 [==============================] - 0s 1ms/step - loss: 1.9556 - accuracy: 0.4818\n",
            "Epoch 72/200\n",
            "118/118 [==============================] - 0s 1ms/step - loss: 1.7261 - accuracy: 0.5272\n",
            "Epoch 73/200\n",
            "118/118 [==============================] - 0s 1ms/step - loss: 1.7920 - accuracy: 0.4863\n",
            "Epoch 74/200\n",
            "118/118 [==============================] - 0s 1ms/step - loss: 1.6379 - accuracy: 0.5249\n",
            "Epoch 75/200\n",
            "118/118 [==============================] - 0s 1ms/step - loss: 1.7813 - accuracy: 0.5121\n",
            "Epoch 76/200\n",
            "118/118 [==============================] - 0s 1ms/step - loss: 1.6019 - accuracy: 0.5627\n",
            "Epoch 77/200\n",
            "118/118 [==============================] - 0s 1ms/step - loss: 1.9993 - accuracy: 0.4723\n",
            "Epoch 78/200\n",
            "118/118 [==============================] - 0s 1ms/step - loss: 1.7494 - accuracy: 0.5535\n",
            "Epoch 79/200\n",
            "118/118 [==============================] - 0s 1ms/step - loss: 1.6551 - accuracy: 0.5430\n",
            "Epoch 80/200\n",
            "118/118 [==============================] - 0s 1ms/step - loss: 1.7121 - accuracy: 0.5286\n",
            "Epoch 81/200\n",
            "118/118 [==============================] - 0s 1ms/step - loss: 1.7080 - accuracy: 0.5546\n",
            "Epoch 82/200\n",
            "118/118 [==============================] - 0s 1ms/step - loss: 1.7361 - accuracy: 0.5373\n",
            "Epoch 83/200\n",
            "118/118 [==============================] - 0s 1ms/step - loss: 1.6320 - accuracy: 0.5325\n",
            "Epoch 84/200\n",
            "118/118 [==============================] - 0s 1ms/step - loss: 1.7407 - accuracy: 0.4995\n",
            "Epoch 85/200\n",
            "118/118 [==============================] - 0s 1ms/step - loss: 1.7322 - accuracy: 0.4896\n",
            "Epoch 86/200\n",
            "118/118 [==============================] - 0s 1ms/step - loss: 1.7797 - accuracy: 0.5352\n",
            "Epoch 87/200\n",
            "118/118 [==============================] - 0s 1ms/step - loss: 1.5309 - accuracy: 0.5977\n",
            "Epoch 88/200\n",
            "118/118 [==============================] - 0s 1ms/step - loss: 1.8136 - accuracy: 0.5245\n",
            "Epoch 89/200\n",
            "118/118 [==============================] - 0s 1ms/step - loss: 1.5207 - accuracy: 0.5655\n",
            "Epoch 90/200\n",
            "118/118 [==============================] - 0s 1ms/step - loss: 1.9455 - accuracy: 0.4785\n",
            "Epoch 91/200\n",
            "118/118 [==============================] - 0s 1ms/step - loss: 1.8712 - accuracy: 0.5118\n",
            "Epoch 92/200\n",
            "118/118 [==============================] - 0s 1ms/step - loss: 1.8394 - accuracy: 0.5102\n",
            "Epoch 93/200\n",
            "118/118 [==============================] - 0s 1ms/step - loss: 1.8880 - accuracy: 0.4965\n",
            "Epoch 94/200\n",
            "118/118 [==============================] - 0s 1ms/step - loss: 1.7127 - accuracy: 0.5318\n",
            "Epoch 95/200\n",
            "118/118 [==============================] - 0s 1ms/step - loss: 1.8636 - accuracy: 0.4996\n",
            "Epoch 96/200\n",
            "118/118 [==============================] - 0s 1ms/step - loss: 1.6983 - accuracy: 0.5531\n",
            "Epoch 97/200\n",
            "118/118 [==============================] - 0s 1ms/step - loss: 1.6465 - accuracy: 0.5383\n",
            "Epoch 98/200\n",
            "118/118 [==============================] - 0s 1ms/step - loss: 1.4402 - accuracy: 0.5776\n",
            "Epoch 99/200\n",
            "118/118 [==============================] - 0s 1ms/step - loss: 1.9257 - accuracy: 0.4937\n",
            "Epoch 100/200\n",
            "118/118 [==============================] - 0s 1ms/step - loss: 1.9379 - accuracy: 0.5080\n",
            "Epoch 101/200\n",
            "118/118 [==============================] - 0s 1ms/step - loss: 1.8166 - accuracy: 0.4899\n",
            "Epoch 102/200\n",
            "118/118 [==============================] - 0s 1ms/step - loss: 1.9544 - accuracy: 0.5022\n",
            "Epoch 103/200\n",
            "118/118 [==============================] - 0s 1ms/step - loss: 1.6953 - accuracy: 0.5499\n",
            "Epoch 104/200\n",
            "118/118 [==============================] - 0s 1ms/step - loss: 1.9395 - accuracy: 0.4999\n",
            "Epoch 105/200\n",
            "118/118 [==============================] - 0s 1ms/step - loss: 1.8331 - accuracy: 0.5318\n",
            "Epoch 106/200\n",
            "118/118 [==============================] - 0s 1ms/step - loss: 1.7367 - accuracy: 0.5023\n",
            "Epoch 107/200\n",
            "118/118 [==============================] - 0s 1ms/step - loss: 1.7427 - accuracy: 0.5464\n",
            "Epoch 108/200\n",
            "118/118 [==============================] - 0s 1ms/step - loss: 1.6537 - accuracy: 0.5567\n",
            "Epoch 109/200\n",
            "118/118 [==============================] - 0s 1ms/step - loss: 1.8370 - accuracy: 0.5239\n",
            "Epoch 110/200\n",
            "118/118 [==============================] - 0s 1ms/step - loss: 1.7467 - accuracy: 0.5444\n",
            "Epoch 111/200\n",
            "118/118 [==============================] - 0s 1ms/step - loss: 2.0358 - accuracy: 0.4827\n",
            "Epoch 112/200\n",
            "118/118 [==============================] - 0s 1ms/step - loss: 1.6794 - accuracy: 0.5621\n",
            "Epoch 113/200\n",
            "118/118 [==============================] - 0s 1ms/step - loss: 1.7526 - accuracy: 0.5427\n",
            "Epoch 114/200\n",
            "118/118 [==============================] - 0s 1ms/step - loss: 2.0709 - accuracy: 0.4436\n",
            "Epoch 115/200\n",
            "118/118 [==============================] - 0s 1ms/step - loss: 1.6345 - accuracy: 0.5613\n",
            "Epoch 116/200\n",
            "118/118 [==============================] - 0s 1ms/step - loss: 1.6896 - accuracy: 0.5742\n",
            "Epoch 117/200\n",
            "118/118 [==============================] - 0s 1ms/step - loss: 1.9376 - accuracy: 0.5159\n",
            "Epoch 118/200\n",
            "118/118 [==============================] - 0s 1ms/step - loss: 2.0230 - accuracy: 0.4939\n",
            "Epoch 119/200\n",
            "118/118 [==============================] - 0s 1ms/step - loss: 1.8816 - accuracy: 0.4833\n",
            "Epoch 120/200\n",
            "118/118 [==============================] - 0s 1ms/step - loss: 1.9706 - accuracy: 0.4952\n",
            "Epoch 121/200\n",
            "118/118 [==============================] - 0s 1ms/step - loss: 1.7925 - accuracy: 0.5474\n",
            "Epoch 122/200\n",
            "118/118 [==============================] - 0s 1ms/step - loss: 1.9679 - accuracy: 0.4938\n",
            "Epoch 123/200\n",
            "118/118 [==============================] - 0s 1ms/step - loss: 1.8495 - accuracy: 0.5279\n",
            "Epoch 124/200\n",
            "118/118 [==============================] - 0s 1ms/step - loss: 1.8904 - accuracy: 0.5071\n",
            "Epoch 125/200\n",
            "118/118 [==============================] - 0s 1ms/step - loss: 1.7991 - accuracy: 0.5088\n",
            "Epoch 126/200\n",
            "118/118 [==============================] - 0s 1ms/step - loss: 2.0374 - accuracy: 0.4714\n",
            "Epoch 127/200\n",
            "118/118 [==============================] - 0s 1ms/step - loss: 1.6324 - accuracy: 0.5380\n",
            "Epoch 128/200\n",
            "118/118 [==============================] - 0s 1ms/step - loss: 1.7843 - accuracy: 0.5421\n",
            "Epoch 129/200\n",
            "118/118 [==============================] - 0s 1ms/step - loss: 2.0167 - accuracy: 0.5008\n",
            "Epoch 130/200\n",
            "118/118 [==============================] - 0s 1ms/step - loss: 2.0829 - accuracy: 0.5364\n",
            "Epoch 131/200\n",
            "118/118 [==============================] - 0s 1ms/step - loss: 1.6530 - accuracy: 0.5454\n",
            "Epoch 132/200\n",
            "118/118 [==============================] - 0s 1ms/step - loss: 1.8944 - accuracy: 0.5436\n",
            "Epoch 133/200\n",
            "118/118 [==============================] - 0s 1ms/step - loss: 1.9892 - accuracy: 0.4831\n",
            "Epoch 134/200\n",
            "118/118 [==============================] - 0s 1ms/step - loss: 1.9527 - accuracy: 0.4961\n",
            "Epoch 135/200\n",
            "118/118 [==============================] - 0s 1ms/step - loss: 1.9039 - accuracy: 0.5286\n",
            "Epoch 136/200\n",
            "118/118 [==============================] - 0s 1ms/step - loss: 1.9930 - accuracy: 0.5188\n",
            "Epoch 137/200\n",
            "118/118 [==============================] - 0s 1ms/step - loss: 1.6016 - accuracy: 0.5628\n",
            "Epoch 138/200\n",
            "118/118 [==============================] - 0s 1ms/step - loss: 1.7621 - accuracy: 0.5491\n",
            "Epoch 139/200\n",
            "118/118 [==============================] - 0s 1ms/step - loss: 1.6581 - accuracy: 0.5652\n",
            "Epoch 140/200\n",
            "118/118 [==============================] - 0s 1ms/step - loss: 1.7250 - accuracy: 0.5588\n",
            "Epoch 141/200\n",
            "118/118 [==============================] - 0s 1ms/step - loss: 1.9294 - accuracy: 0.4778\n",
            "Epoch 142/200\n",
            "118/118 [==============================] - 0s 1ms/step - loss: 1.7706 - accuracy: 0.5261\n",
            "Epoch 143/200\n",
            "118/118 [==============================] - 0s 1ms/step - loss: 1.6833 - accuracy: 0.5554\n",
            "Epoch 144/200\n",
            "118/118 [==============================] - 0s 1ms/step - loss: 1.9832 - accuracy: 0.4791\n",
            "Epoch 145/200\n",
            "118/118 [==============================] - 0s 1ms/step - loss: 1.8047 - accuracy: 0.5305\n",
            "Epoch 146/200\n",
            "118/118 [==============================] - 0s 1ms/step - loss: 1.8776 - accuracy: 0.5097\n",
            "Epoch 147/200\n",
            "118/118 [==============================] - 0s 1ms/step - loss: 2.0139 - accuracy: 0.5253\n",
            "Epoch 148/200\n",
            "118/118 [==============================] - 0s 1ms/step - loss: 1.7449 - accuracy: 0.5234\n",
            "Epoch 149/200\n",
            "118/118 [==============================] - 0s 1ms/step - loss: 1.5859 - accuracy: 0.5847\n",
            "Epoch 150/200\n",
            "118/118 [==============================] - 0s 1ms/step - loss: 1.8329 - accuracy: 0.5155\n",
            "Epoch 151/200\n",
            "118/118 [==============================] - 0s 1ms/step - loss: 1.9353 - accuracy: 0.5473\n",
            "Epoch 152/200\n",
            "118/118 [==============================] - 0s 1ms/step - loss: 1.7796 - accuracy: 0.5452\n",
            "Epoch 153/200\n",
            "118/118 [==============================] - 0s 1ms/step - loss: 1.8496 - accuracy: 0.4976\n",
            "Epoch 154/200\n",
            "118/118 [==============================] - 0s 1ms/step - loss: 1.8025 - accuracy: 0.5362\n",
            "Epoch 155/200\n",
            "118/118 [==============================] - 0s 1ms/step - loss: 1.8702 - accuracy: 0.5176\n",
            "Epoch 156/200\n",
            "118/118 [==============================] - 0s 1ms/step - loss: 1.8966 - accuracy: 0.5437\n",
            "Epoch 157/200\n",
            "118/118 [==============================] - 0s 1ms/step - loss: 2.1521 - accuracy: 0.4771\n",
            "Epoch 158/200\n",
            "118/118 [==============================] - 0s 1ms/step - loss: 1.7795 - accuracy: 0.5689\n",
            "Epoch 159/200\n",
            "118/118 [==============================] - 0s 1ms/step - loss: 1.8558 - accuracy: 0.5473\n",
            "Epoch 160/200\n",
            "118/118 [==============================] - 0s 1ms/step - loss: 1.6908 - accuracy: 0.5573\n",
            "Epoch 161/200\n",
            "118/118 [==============================] - 0s 1ms/step - loss: 1.9141 - accuracy: 0.5224\n",
            "Epoch 162/200\n",
            "118/118 [==============================] - 0s 1ms/step - loss: 1.8608 - accuracy: 0.5143\n",
            "Epoch 163/200\n",
            "118/118 [==============================] - 0s 1ms/step - loss: 1.8561 - accuracy: 0.5315\n",
            "Epoch 164/200\n",
            "118/118 [==============================] - 0s 1ms/step - loss: 1.8668 - accuracy: 0.5199\n",
            "Epoch 165/200\n",
            "118/118 [==============================] - 0s 1ms/step - loss: 1.8305 - accuracy: 0.5248\n",
            "Epoch 166/200\n",
            "118/118 [==============================] - 0s 1ms/step - loss: 1.7981 - accuracy: 0.5335\n",
            "Epoch 167/200\n",
            "118/118 [==============================] - 0s 1ms/step - loss: 2.0087 - accuracy: 0.5442\n",
            "Epoch 168/200\n",
            "118/118 [==============================] - 0s 1ms/step - loss: 2.1688 - accuracy: 0.4808\n",
            "Epoch 169/200\n",
            "118/118 [==============================] - 0s 1ms/step - loss: 1.8975 - accuracy: 0.5364\n",
            "Epoch 170/200\n",
            "118/118 [==============================] - 0s 1ms/step - loss: 1.8878 - accuracy: 0.5522\n",
            "Epoch 171/200\n",
            "118/118 [==============================] - 0s 1ms/step - loss: 1.7473 - accuracy: 0.5641\n",
            "Epoch 172/200\n",
            "118/118 [==============================] - 0s 1ms/step - loss: 1.7140 - accuracy: 0.5232\n",
            "Epoch 173/200\n",
            "118/118 [==============================] - 0s 1ms/step - loss: 1.6885 - accuracy: 0.5569\n",
            "Epoch 174/200\n",
            "118/118 [==============================] - 0s 1ms/step - loss: 1.7713 - accuracy: 0.5705\n",
            "Epoch 175/200\n",
            "118/118 [==============================] - 0s 1ms/step - loss: 1.9654 - accuracy: 0.5477\n",
            "Epoch 176/200\n",
            "118/118 [==============================] - 0s 1ms/step - loss: 1.8951 - accuracy: 0.5161\n",
            "Epoch 177/200\n",
            "118/118 [==============================] - 0s 1ms/step - loss: 1.7257 - accuracy: 0.5793\n",
            "Epoch 178/200\n",
            "118/118 [==============================] - 0s 1ms/step - loss: 1.8548 - accuracy: 0.5474\n",
            "Epoch 179/200\n",
            "118/118 [==============================] - 0s 1ms/step - loss: 1.9288 - accuracy: 0.5464\n",
            "Epoch 180/200\n",
            "118/118 [==============================] - 0s 1ms/step - loss: 1.9282 - accuracy: 0.5536\n",
            "Epoch 181/200\n",
            "118/118 [==============================] - 0s 1ms/step - loss: 1.9671 - accuracy: 0.5285\n",
            "Epoch 182/200\n",
            "118/118 [==============================] - 0s 1ms/step - loss: 1.6880 - accuracy: 0.5836\n",
            "Epoch 183/200\n",
            "118/118 [==============================] - 0s 1ms/step - loss: 1.8624 - accuracy: 0.5417\n",
            "Epoch 184/200\n",
            "118/118 [==============================] - 0s 1ms/step - loss: 2.0742 - accuracy: 0.4662\n",
            "Epoch 185/200\n",
            "118/118 [==============================] - 0s 1ms/step - loss: 1.8832 - accuracy: 0.5076\n",
            "Epoch 186/200\n",
            "118/118 [==============================] - 0s 1ms/step - loss: 1.8310 - accuracy: 0.5387\n",
            "Epoch 187/200\n",
            "118/118 [==============================] - 0s 1ms/step - loss: 1.8945 - accuracy: 0.5623\n",
            "Epoch 188/200\n",
            "118/118 [==============================] - 0s 1ms/step - loss: 2.0731 - accuracy: 0.4769\n",
            "Epoch 189/200\n",
            "118/118 [==============================] - 0s 1ms/step - loss: 1.8162 - accuracy: 0.5137\n",
            "Epoch 190/200\n",
            "118/118 [==============================] - 0s 1ms/step - loss: 1.8278 - accuracy: 0.5362\n",
            "Epoch 191/200\n",
            "118/118 [==============================] - 0s 1ms/step - loss: 2.1310 - accuracy: 0.4643\n",
            "Epoch 192/200\n",
            "118/118 [==============================] - 0s 1ms/step - loss: 1.9887 - accuracy: 0.5520\n",
            "Epoch 193/200\n",
            "118/118 [==============================] - 0s 1ms/step - loss: 1.9911 - accuracy: 0.5010\n",
            "Epoch 194/200\n",
            "118/118 [==============================] - 0s 1ms/step - loss: 2.0652 - accuracy: 0.5082\n",
            "Epoch 195/200\n",
            "118/118 [==============================] - 0s 1ms/step - loss: 1.6508 - accuracy: 0.5808\n",
            "Epoch 196/200\n",
            "118/118 [==============================] - 0s 1ms/step - loss: 1.8997 - accuracy: 0.5534\n",
            "Epoch 197/200\n",
            "118/118 [==============================] - 0s 1ms/step - loss: 1.8764 - accuracy: 0.5371\n",
            "Epoch 198/200\n",
            "118/118 [==============================] - 0s 1ms/step - loss: 1.7722 - accuracy: 0.5681\n",
            "Epoch 199/200\n",
            "118/118 [==============================] - 0s 1ms/step - loss: 2.1335 - accuracy: 0.4763\n",
            "Epoch 200/200\n",
            "118/118 [==============================] - 0s 1ms/step - loss: 1.7528 - accuracy: 0.5636\n"
          ],
          "name": "stdout"
        }
      ]
    },
    {
      "cell_type": "code",
      "metadata": {
        "id": "y23Dd8VYK05D"
      },
      "source": [
        "intents = json.loads(open('/content/intents.json').read())\n",
        "words = pickle.load(open('/content/words.pkl','rb'))\n",
        "classes = pickle.load(open('/content/classes.pkl','rb'))"
      ],
      "execution_count": 16,
      "outputs": []
    },
    {
      "cell_type": "code",
      "metadata": {
        "id": "e0rnqsupK02P"
      },
      "source": [
        "# return bag of words array: 0 or 1 for each word in the bag that exists in the sentence\n",
        "def clean_up_sentence(sentence):\n",
        "    # tokenize the pattern - split words into array\n",
        "    sentence_words = nltk.word_tokenize(sentence)\n",
        "\n",
        "    # stem each word - create short form for word\n",
        "    sentence_words = [lemmatizer.lemmatize(word.lower()) for word in sentence_words]\n",
        "    \n",
        "    return sentence_words"
      ],
      "execution_count": 17,
      "outputs": []
    },
    {
      "cell_type": "code",
      "metadata": {
        "id": "okYw43W3LJZm"
      },
      "source": [
        "def bow(sentence, words, show_details=True):\n",
        "    # tokenize the pattern\n",
        "    sentence_words = clean_up_sentence(sentence)\n",
        "\n",
        "    # bag of words - matrix of N words, vocabulary matrix\n",
        "    bag = [0]*len(words) \n",
        "    \n",
        "    for s in sentence_words:\n",
        "        for i,w in enumerate(words):\n",
        "            if w == s: \n",
        "                # assign 1 if current word is in the vocabulary position\n",
        "                bag[i] = 1\n",
        "                if show_details:\n",
        "                    print (\"found in bag: %s\" % w)\n",
        "    return(np.array(bag))"
      ],
      "execution_count": 18,
      "outputs": []
    },
    {
      "cell_type": "code",
      "metadata": {
        "id": "lk_fZ0EuLJWd"
      },
      "source": [
        "def predict_class(sentence, model):\n",
        "    # filter out predictions below a threshold\n",
        "    p = bow(sentence, words,show_details=False)\n",
        "    res = model.predict(np.array([p]))[0]\n",
        "\n",
        "    ERROR_THRESHOLD = 0.25\n",
        "    results = [[i,r] for i,r in enumerate(res) if r>ERROR_THRESHOLD]\n",
        "\n",
        "    # sort by strength of probability\n",
        "    results.sort(key=lambda x: x[1], reverse=True)\n",
        "    \n",
        "    return_list = []\n",
        "    for r in results:\n",
        "        return_list.append({\"intent\": classes[r[0]], \"probability\": str(r[1])})\n",
        "    return return_list"
      ],
      "execution_count": 19,
      "outputs": []
    },
    {
      "cell_type": "code",
      "metadata": {
        "id": "CCC19_NKLJTt"
      },
      "source": [
        "def getResponse(ints, intents_json):\n",
        "    tag = ints[0]['intent']\n",
        "    list_of_intents = intents_json['intents']\n",
        "    \n",
        "    for i in list_of_intents:\n",
        "        if(i['tag']== tag):\n",
        "            result = random.choice(i['responses'])\n",
        "            break\n",
        "    return result"
      ],
      "execution_count": 20,
      "outputs": []
    },
    {
      "cell_type": "code",
      "metadata": {
        "id": "Ck28E5jPLS3G"
      },
      "source": [
        "def chatbot_response(text):\n",
        "    ints = predict_class(text, model)\n",
        "    res = getResponse(ints, intents)\n",
        "    return res\n"
      ],
      "execution_count": 21,
      "outputs": []
    },
    {
      "cell_type": "code",
      "metadata": {
        "id": "d6Bfw7-pLagC"
      },
      "source": [
        ""
      ],
      "execution_count": null,
      "outputs": []
    },
    {
      "cell_type": "code",
      "metadata": {
        "colab": {
          "base_uri": "https://localhost:8080/",
          "height": 35
        },
        "id": "ADVa52_8Labk",
        "outputId": "5578463e-dd84-4e9d-bc92-5132d5db0bea"
      },
      "source": [
        "#test\n",
        "chatbot_response('caractéristiques de camera de a74 ?')"
      ],
      "execution_count": 23,
      "outputs": [
        {
          "output_type": "execute_result",
          "data": {
            "application/vnd.google.colaboratory.intrinsic+json": {
              "type": "string"
            },
            "text/plain": [
              "'2G: GSM, 850/900/1800/1900 MHz'"
            ]
          },
          "metadata": {
            "tags": []
          },
          "execution_count": 23
        }
      ]
    },
    {
      "cell_type": "code",
      "metadata": {
        "id": "ud0DMZLULaU3"
      },
      "source": [
        ""
      ],
      "execution_count": null,
      "outputs": []
    },
    {
      "cell_type": "code",
      "metadata": {
        "id": "ud_O2xkGLSzo"
      },
      "source": [
        ""
      ],
      "execution_count": null,
      "outputs": []
    }
  ]
}